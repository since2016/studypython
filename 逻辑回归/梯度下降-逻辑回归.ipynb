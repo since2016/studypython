{
 "cells": [
  {
   "cell_type": "code",
   "execution_count": 11,
   "metadata": {
    "collapsed": true,
    "pycharm": {
     "is_executing": false
    }
   },
   "outputs": [
    {
     "data": {
      "text/plain": "<matplotlib.figure.Figure at 0x1a1c017978>",
      "image/png": "[encoded data removed]"
     },
     "metadata": {},
     "output_type": "display_data"
    }
   ],
   "source": [
    "import numpy as np\n",
    "from sklearn.metrics import classification_report\n",
    "from sklearn import preprocessing\n",
    "import matplotlib.pyplot as plt\n",
    "\n",
    "# 数据是否需要标准化\n",
    "scale = True\n",
    "\n",
    "#载入数据\n",
    "data = np.genfromtxt('LR-testSet.csv', delimiter=',')\n",
    "x_data = data[:, :-1]\n",
    "y_data = data[:, -1]\n",
    "\n",
    "def plot():\n",
    "    x0 = []\n",
    "    x1 = []\n",
    "    y0 = []\n",
    "    y1 = []\n",
    "    \n",
    "    for i in range(len(x_data)):\n",
    "        if y_data[i] == 0:\n",
    "            x0.append(x_data[i, 0])\n",
    "            y0.append(x_data[i, 1])\n",
    "        else:\n",
    "            x1.append(x_data[i,0])\n",
    "            y1.append(x_data[i, 1])\n",
    "        \n",
    "    # 画图\n",
    "    scatter0 = plt.scatter(x0, y0, c='b', marker='o')\n",
    "    scatter1 = plt.scatter(x1, y1, c='r', marker='x')\n",
    "    \n",
    "    # 画图例\n",
    "    plt.legend(handles=[scatter0, scatter1], labels=['lable0', 'label1'], loc='best')\n",
    "    \n",
    "plot()\n",
    "plt.show()\n",
    "\n",
    "            "
   ]
  },
  {
   "cell_type": "code",
   "execution_count": 12,
   "outputs": [
    {
     "name": "stdout",
     "text": [
      "(100, 2)\n(100, 1)\n(100, 3)\n"
     ],
     "output_type": "stream"
    }
   ],
   "source": [
    "x_data = data[:, :-1]\n",
    "y_data = data[:, -1, np.newaxis]\n",
    "\n",
    "print(np.mat(x_data).shape)\n",
    "print(np.mat(y_data).shape)\n",
    "\n",
    "X_data = np.concatenate((np.ones((100,1)), x_data), axis=1)\n",
    "print(X_data.shape)\n",
    "\n",
    "\n"
   ],
   "metadata": {
    "collapsed": false,
    "pycharm": {
     "name": "#%% 数据处理， 添加偏置值\n",
     "is_executing": false
    }
   }
  },
  {
   "cell_type": "code",
   "execution_count": 13,
   "outputs": [],
   "source": [
    "def sigmoid(x):\n",
    "    return 1.0/(1+np.exp(-x))\n",
    "    \n",
    "    \n",
    "def cost(xMat, yMat, ws):\n",
    "    left = np.multiply(yMat, np.log(sigmoid(xMat*ws)))\n",
    "    right = np.multiply(1 - yMat, np.log(1-sigmoid(xMat*ws)))\n",
    "    return np.sum(left+right) / -(len(xMat)) \n",
    "\n",
    "def gradAscent(xArr, yArr):\n",
    "    if scale == True:\n",
    "        xArr = preprocessing.scale(xArr)\n",
    "    xMat = np.mat(xArr)\n",
    "    yMat = np.mat(yArr)\n",
    "    \n",
    "    lr = 0.001\n",
    "    epoches = 10000\n",
    "    costList = []\n",
    "    # 计算数据行列数\n",
    "    # 行代表数据个数， 列代表权值个数\n",
    "    m, n = np.shape(xMat)\n",
    "    # 初始化权值\n",
    "    ws = np.mat(np.ones((n,1)))\n",
    "    \n",
    "    for i in range(epoches+1):\n",
    "        # xmat 和weight 矩阵相乘\n",
    "        h = sigmoid(xMat*ws)\n",
    "        # 计算误差\n",
    "        ws_grad = xMat.T*(h - yMat) /m\n",
    "        ws = ws - lr*ws_grad\n",
    "        \n",
    "        if i % 50 == 0:\n",
    "            costList.append(cost(xMat, yMat, ws))\n",
    "            \n",
    "    return ws, costList\n",
    "    "
   ],
   "metadata": {
    "collapsed": false,
    "pycharm": {
     "name": "#%%\n",
     "is_executing": false
    }
   }
  },
  {
   "cell_type": "code",
   "execution_count": 14,
   "outputs": [
    {
     "name": "stdout",
     "text": [
      "[[ 1.        ]\n [ 0.30816757]\n [-1.76171512]]\n",
      "             precision    recall  f1-score   support\n\n        0.0       0.92      1.00      0.96        47\n        1.0       1.00      0.92      0.96        53\n\navg / total       0.96      0.96      0.96       100\n\n"
     ],
     "output_type": "stream"
    },
    {
     "data": {
      "text/plain": "<matplotlib.figure.Figure at 0x1a1c2b1710>",
      "image/png": "[encoded data removed]"
     },
     "metadata": {},
     "output_type": "display_data"
    }
   ],
   "source": [
    "ws, costList = gradAscent(X_data, y_data)\n",
    "print(ws)\n",
    "\n",
    "# \n",
    "if scale == False:\n",
    "    plot()\n",
    "    x_test = [[-4], [3]]\n",
    "    y_test = (-ws[0] - x_test*ws[1]) / ws[2]\n",
    "    plt.plot(x_test, y_test, 'k')\n",
    "    plt.show()\n",
    "    \n",
    "\n",
    "# loss 变化\n",
    "x = np.linspace(0, 10000, 201)\n",
    "plt.plot(x, costList, c='r')\n",
    "plt.title(\"Train\")\n",
    "plt.xlabel(\"Epoches\")\n",
    "plt.ylabel('cost')\n",
    "plt.show()\n",
    "\n",
    "\n",
    "# 预测\n",
    "def predict(x_data, ws):\n",
    "    if scale == True:\n",
    "        x_data = preprocessing.scale(x_data)\n",
    "        \n",
    "    xMat = np.mat(x_data)\n",
    "    ws = np.mat(ws)\n",
    "    return [1 if x>=0.5 else 0 for x in sigmoid(xMat*ws)]\n",
    "\n",
    "predictions = predict(X_data, ws)\n",
    "print(classification_report(y_data, predictions))"
   ],
   "metadata": {
    "collapsed": false,
    "pycharm": {
     "name": "#%%\n",
     "is_executing": false
    }
   }
  }
 ],
 "metadata": {
  "language_info": {
   "codemirror_mode": {
    "name": "ipython",
    "version": 2
   },
   "file_extension": ".py",
   "mimetype": "text/x-python",
   "name": "python",
   "nbconvert_exporter": "python",
   "pygments_lexer": "ipython2",
   "version": "2.7.6"
  },
  "kernelspec": {
   "name": "python3",
   "language": "python",
   "display_name": "Python 3"
  },
  "pycharm": {
   "stem_cell": {
    "cell_type": "raw",
    "source": [],
    "metadata": {
     "collapsed": false
    }
   }
  }
 },
 "nbformat": 4,
 "nbformat_minor": 0
}