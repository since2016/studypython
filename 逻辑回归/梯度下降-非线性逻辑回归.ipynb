{
 "cells": [
  {
   "cell_type": "code",
   "execution_count": 2,
   "metadata": {
    "collapsed": true,
    "pycharm": {
     "is_executing": false
    }
   },
   "outputs": [
    {
     "data": {
      "text/plain": "<matplotlib.figure.Figure at 0x1a07fd2550>",
      "image/png": "[encoded data removed]"
     },
     "metadata": {},
     "output_type": "display_data"
    }
   ],
   "source": [
    "import numpy as np\n",
    "from sklearn.metrics import classification_report\n",
    "from sklearn import preprocessing\n",
    "from sklearn.preprocessing import PolynomialFeatures\n",
    "import matplotlib.pyplot as plt\n",
    "\n",
    "# 数据是否需要标准化\n",
    "scale = False\n",
    "\n",
    "#载入数据\n",
    "data = np.genfromtxt('LR-testSet2.txt', delimiter=',')\n",
    "x_data = data[:, :-1]\n",
    "y_data = data[:, -1, np.newaxis]\n",
    "\n",
    "def plot():\n",
    "    x0 = []\n",
    "    x1 = []\n",
    "    y0 = []\n",
    "    y1 = []\n",
    "    \n",
    "    for i in range(len(x_data)):\n",
    "        if y_data[i] == 0:\n",
    "            x0.append(x_data[i, 0])\n",
    "            y0.append(x_data[i, 1])\n",
    "        else:\n",
    "            x1.append(x_data[i,0])\n",
    "            y1.append(x_data[i, 1])\n",
    "        \n",
    "    # 画图\n",
    "    scatter0 = plt.scatter(x0, y0, c='b', marker='o')\n",
    "    scatter1 = plt.scatter(x1, y1, c='r', marker='x')\n",
    "    \n",
    "    # 画图例\n",
    "    plt.legend(handles=[scatter0, scatter1], labels=['lable0', 'label1'], loc='best')\n",
    "    \n",
    "plot()\n",
    "plt.show()\n"
   ]
  },
  {
   "cell_type": "code",
   "execution_count": null,
   "outputs": [],
   "source": [
    "# 定义多项式回归， degree 的值可以调节多项式的特征\n",
    "poly_reg = PolynomialFeatures(degree=3)\n",
    "# 特征处理\n",
    "x_poly = poly_reg.fit_transform(x_data)\n",
    "\n"
   ],
   "metadata": {
    "collapsed": false,
    "pycharm": {
     "name": "#%%\n"
    }
   }
  },
  {
   "cell_type": "code",
   "execution_count": null,
   "outputs": [],
   "source": [
    "def sigmoid(x):\n",
    "    return 1.0/(1+np.exp(-x))\n",
    "\n",
    "def cost(xMat, yMat, ws):\n",
    "    left = np.multiply(yMat, np.log(sigmoid(xMat*ws)))\n",
    "    right = np.multiply(1-yMat, np.log(1-sigmoid(xMat*ws)))\n",
    "    return np.sum(left+right) / -len(xMat)\n",
    "\n",
    "\n",
    "def gradAscent(xArr, yArr):\n",
    "    \n",
    "    if scale == True:\n",
    "        xArr = preprocessing.scale(xArr)\n",
    "        \n",
    "    xMat = np.mat(xArr)\n",
    "    yMat = np.mat(yArr)\n",
    "    \n",
    "    lr = 0.03\n",
    "    epoches = 50000\n",
    "    costList = []\n",
    "    # 计算数据列数， 有几列就有几个权值\n",
    "    # 初始化权值\n",
    "    ws = np.mat(np.ones((n,1)))\n",
    "    \n",
    "    for i in range(epoches+1):\n",
    "        # xmat 和weight 矩阵相乘\n",
    "        h = sigmoid(xMat*ws)\n",
    "        # 计算误差\n",
    "        ws_grad = xMat.T*(h - yMat) /m\n",
    "        ws = ws - lr*ws_grad\n",
    "        \n",
    "        if i % 50 == 0:\n",
    "            costList.append(cost(xMat, yMat, ws))\n",
    "            \n",
    "    return ws, costList\n",
    "    "
   ],
   "metadata": {
    "collapsed": false,
    "pycharm": {
     "name": "#%%\n"
    }
   }
  },
  {
   "cell_type": "code",
   "execution_count": null,
   "outputs": [],
   "source": [
    "ws, costList = gradAscent(X_data, y_data)\n",
    "print(ws)\n",
    "\n",
    "\n",
    "# 预测\n",
    "def predict(x_data, ws):\n",
    "    xMat = np.mat(x_data)\n",
    "    ws = np.mat(ws)\n",
    "    return [1 if x >= 0.5 else 0 for x in sigmoid(xMat*ws)]\n",
    "\n",
    "predictions = predict(x_poly, ws)\n",
    "print(classification_report(y_data, predictions))"
   ],
   "metadata": {
    "collapsed": false,
    "pycharm": {
     "name": "#%%\n"
    }
   }
  }
 ],
 "metadata": {
  "language_info": {
   "codemirror_mode": {
    "name": "ipython",
    "version": 2
   },
   "file_extension": ".py",
   "mimetype": "text/x-python",
   "name": "python",
   "nbconvert_exporter": "python",
   "pygments_lexer": "ipython2",
   "version": "2.7.6"
  },
  "kernelspec": {
   "name": "python3",
   "language": "python",
   "display_name": "Python 3"
  },
  "pycharm": {
   "stem_cell": {
    "cell_type": "raw",
    "source": [],
    "metadata": {
     "collapsed": false
    }
   }
  }
 },
 "nbformat": 4,
 "nbformat_minor": 0
}