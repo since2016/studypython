{
 "cells": [
  {
   "cell_type": "code",
   "execution_count": 2,
   "metadata": {
    "collapsed": true,
    "pycharm": {
     "is_executing": false
    }
   },
   "outputs": [
    {
     "name": "stdout",
     "text": [
      "[[ 100.     4.     9.3]\n [  50.     3.     4.8]\n [ 100.     4.     8.9]\n [ 100.     2.     6.5]\n [  50.     2.     4.2]\n [  80.     2.     6.2]\n [  75.     3.     7.4]\n [  65.     4.     6. ]\n [  90.     3.     7.6]\n [  90.     2.     6.1]]\n[[ 100.    4.]\n [  50.    3.]\n [ 100.    4.]\n [ 100.    2.]\n [  50.    2.]\n [  80.    2.]\n [  75.    3.]\n [  65.    4.]\n [  90.    3.]\n [  90.    2.]]\n[ 9.3  4.8  8.9  6.5  4.2  6.2  7.4  6.   7.6  6.1]\ncoefficients:  [ 0.0611346   0.92342537]\nintercept:  -0.868701466782\npredict :  [ 9.06072908]\n"
     ],
     "output_type": "stream"
    }
   ],
   "source": [
    "from sklearn.linear_model import LinearRegression\n",
    "import numpy as np\n",
    "\n",
    "data = np.genfromtxt('Delivery.csv', delimiter=',')\n",
    "print(data)\n",
    "\n",
    "x_data = data[:, :-1]\n",
    "y_data = data[:, -1]\n",
    "\n",
    "print(x_data)\n",
    "print(y_data)\n",
    "\n",
    "#创建模型\n",
    "model = LinearRegression()\n",
    "model.fit(x_data, y_data)\n",
    "\n",
    "#系数\n",
    "print(\"coefficients: \",model.coef_)\n",
    "# 截距\n",
    "print(\"intercept: \", model.intercept_)\n",
    "\n",
    "x_test = [[102, 4]]\n",
    "predict = model.predict(x_test)\n",
    "\n",
    "print(\"predict : \", predict)\n"
   ]
  }
 ],
 "metadata": {
  "language_info": {
   "codemirror_mode": {
    "name": "ipython",
    "version": 2
   },
   "file_extension": ".py",
   "mimetype": "text/x-python",
   "name": "python",
   "nbconvert_exporter": "python",
   "pygments_lexer": "ipython2",
   "version": "2.7.6"
  },
  "kernelspec": {
   "name": "python2",
   "language": "python",
   "display_name": "Python 2"
  },
  "pycharm": {
   "stem_cell": {
    "cell_type": "raw",
    "source": [],
    "metadata": {
     "collapsed": false
    }
   }
  }
 },
 "nbformat": 4,
 "nbformat_minor": 0
}