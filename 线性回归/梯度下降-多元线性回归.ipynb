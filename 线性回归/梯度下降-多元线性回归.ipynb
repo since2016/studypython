{
 "cells": [
  {
   "cell_type": "code",
   "execution_count": 12,
   "metadata": {
    "collapsed": true,
    "pycharm": {
     "is_executing": false
    }
   },
   "outputs": [],
   "source": [
    "import numpy as np\n",
    "import matplotlib.pyplot as plt\n"
   ]
  },
  {
   "cell_type": "code",
   "execution_count": 13,
   "outputs": [
    {
     "name": "stdout",
     "text": [
      "[[ 100.     4.     9.3]\n [  50.     3.     4.8]\n [ 100.     4.     8.9]\n [ 100.     2.     6.5]\n [  50.     2.     4.2]\n [  80.     2.     6.2]\n [  75.     3.     7.4]\n [  65.     4.     6. ]\n [  90.     3.     7.6]\n [  90.     2.     6.1]]\n[[ 100.    4.]\n [  50.    3.]\n [ 100.    4.]\n [ 100.    2.]\n [  50.    2.]\n [  80.    2.]\n [  75.    3.]\n [  65.    4.]\n [  90.    3.]\n [  90.    2.]]\n[ 9.3  4.8  8.9  6.5  4.2  6.2  7.4  6.   7.6  6.1]\n"
     ],
     "output_type": "stream"
    }
   ],
   "source": [
    "data = np.genfromtxt('Delivery.csv', delimiter=',')\n",
    "print(data)\n",
    "\n",
    "x_data = data[:,:-1]\n",
    "y_data = data[:,-1]\n",
    "print(x_data)\n",
    "print(y_data)\n",
    "\n"
   ],
   "metadata": {
    "collapsed": false,
    "pycharm": {
     "name": "#%% 读数据，切分数据\n",
     "is_executing": false
    }
   }
  },
  {
   "cell_type": "code",
   "execution_count": 14,
   "outputs": [
    {
     "name": "stdout",
     "text": [
      "starting theta0 = 0, theta1 = 0, theta2 = 0, error = 47.279999999999994\nrunning....\nafter 1000 iterations theta0 = 0.006971416196678632, theta1 = 0.08021042690771771, theta2 = 0.07611036240566814, error = 0.7731271432218118\n"
     ],
     "output_type": "stream"
    }
   ],
   "source": [
    "lr = 0.0001\n",
    "theta0 = 0\n",
    "theta1 = 0\n",
    "theta2 = 0\n",
    "\n",
    "epoches = 1000\n",
    "\n",
    "\n",
    "def computer_error(theta0, theta1, theta2, x_data, y_data):\n",
    "    total_error = 0\n",
    "    for i in range(0, len(x_data)):\n",
    "        total_error += (y_data[i] - (theta0 + theta1 * x_data[i,0]+theta2*x_data[i,1])) ** 2\n",
    "        \n",
    "    return total_error / float(len(x_data))\n",
    "\n",
    "\n",
    "def gradient_descent_runner(x_data, y_data, theta0, theta1, theta2,lr, epoches):\n",
    "     m = float(len(x_data))\n",
    "     \n",
    "     for i in range(epoches):\n",
    "         theta0_grad = 0\n",
    "         theta1_grad = 0\n",
    "         theta2_grad = 0\n",
    "         \n",
    "         for j in range(0, len(x_data)):\n",
    "             theta0_grad += (1/m) * ((theta1 * x_data[j,0] + theta2 * x_data[j,1] + theta0) - y_data[j])\n",
    "             theta1_grad += (1/m) * x_data[j,0] * ((theta1 * x_data[j,0] + theta2 * x_data[j,1] + theta0) - y_data[j])\n",
    "             theta2_grad += (1/m) * x_data[j,1] * ((theta1 * x_data[j,0] + theta2 * x_data[j,1] + theta0) - y_data[j])\n",
    "             \n",
    "         # 更新 bk\n",
    "         theta0 = theta0 - lr * theta0_grad\n",
    "         theta1 = theta1 - lr * theta1_grad\n",
    "         theta2 = theta2 - lr * theta2_grad\n",
    "         \n",
    "     return theta0, theta1, theta2\n",
    "\n",
    "print(\"starting theta0 = {0}, theta1 = {1}, theta2 = {2}, error = {3}\".format(theta0, theta1, theta2, computer_error(theta0, theta1, theta2, x_data, y_data)))\n",
    "print(\"running....\")\n",
    "\n",
    "theta0, theta1, theta2 = gradient_descent_runner(x_data, y_data, theta0, theta1, theta2, lr, epoches)\n",
    "print(\"after {0} iterations theta0 = {1}, theta1 = {2}, theta2 = {3}, error = {4}\".format(epoches, theta0, theta1, theta2, computer_error(theta0, theta1, theta2, x_data, y_data)))\n",
    "\n"
   ],
   "metadata": {
    "collapsed": false,
    "pycharm": {
     "name": "#%% 学习率  参数，迭代次数\n",
     "is_executing": false
    }
   }
  },
  {
   "cell_type": "code",
   "execution_count": null,
   "outputs": [],
   "source": [
    "\n"
   ],
   "metadata": {
    "collapsed": false,
    "pycharm": {
     "name": "#%%\n"
    }
   }
  }
 ],
 "metadata": {
  "language_info": {
   "codemirror_mode": {
    "name": "ipython",
    "version": 2
   },
   "file_extension": ".py",
   "mimetype": "text/x-python",
   "name": "python",
   "nbconvert_exporter": "python",
   "pygments_lexer": "ipython2",
   "version": "2.7.6"
  },
  "kernelspec": {
   "name": "python3",
   "language": "python",
   "display_name": "Python 3"
  },
  "pycharm": {
   "stem_cell": {
    "cell_type": "raw",
    "source": [],
    "metadata": {
     "collapsed": false
    }
   }
  }
 },
 "nbformat": 4,
 "nbformat_minor": 0
}