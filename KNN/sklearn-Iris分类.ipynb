{
 "cells": [
  {
   "cell_type": "code",
   "execution_count": null,
   "metadata": {
    "collapsed": true
   },
   "outputs": [],
   "source": [
    "import numpy as np\n",
    "from sklearn import datasets\n",
    "from sklearn.model_selection import train_test_split\n",
    "from sklearn.metrics import classification_report, confusion_matrix\n",
    "import operator\n",
    "import random\n",
    "\n",
    "def knn(x_test, x_data, y_data, k):\n",
    "    x_data_size = x_data.shape[0]\n",
    "    np.tile(x_test, (x_data_size, 1))\n",
    "    # 计算x_test 与每个样本对差值\n",
    "    diffMat = np.tile(x_test, (x_data_size, 1)) - x_data\n",
    "    # 计算差值对平方\n",
    "    sqDiffMat = diffMat**2\n",
    "    #  求和\n",
    "    sqDistances = sqDiffMat.sum(axis=1)\n",
    "    distances = sqDistances**0.5\n",
    "    sortedDistances = distances.argsort()\n",
    "    classCount = {}\n",
    "    for i in range(k):\n",
    "        votelabel = y_data[sortedDistances[i]]\n",
    "        classCount[votelabel] = classCount.get(votelabel, 0) + 1\n",
    "        \n",
    "    sortedClassCount = sorted(classCount.items(), key=operator.itemgetter(1), reverse=True)\n",
    "    return sortedClassCount[0][0]\n",
    "    "
   ]
  },
  {
   "cell_type": "code",
   "execution_count": null,
   "outputs": [],
   "source": [
    "\n",
    "iris = datasets.load_iris()\n",
    "\n",
    "# 打乱数据\n",
    "data_size = iris.data.shape[0]\n",
    "index = [i for i in range(data_size)]\n",
    "random.shuffle(index)\n",
    "iris.data = iris.data[index]\n",
    "iris.target = iris.target[index]\n",
    "\n",
    "# 数据划分\n",
    "test_size = 40\n",
    "x_train = iris.data[test_size:]\n",
    "x_test = iris.data[:test_size]\n",
    "y_train = iris.data[test_size:]\n",
    "y_test = iris.data[:test_size]\n",
    "\n",
    "prediction = []\n",
    "for i in range(x_test.shape[0]):\n",
    "    prediction.append(knn(x_test[i], x_train, y_train, 5))\n",
    "    \n",
    "print(classification_report(y_train, prediction))\n",
    "\n",
    "\n",
    " "
   ],
   "metadata": {
    "collapsed": false,
    "pycharm": {
     "name": "#%%\n"
    }
   }
  }
 ],
 "metadata": {
  "language_info": {
   "codemirror_mode": {
    "name": "ipython",
    "version": 2
   },
   "file_extension": ".py",
   "mimetype": "text/x-python",
   "name": "python",
   "nbconvert_exporter": "python",
   "pygments_lexer": "ipython2",
   "version": "2.7.6"
  },
  "kernelspec": {
   "name": "python3",
   "language": "python",
   "display_name": "Python 3"
  },
  "pycharm": {
   "stem_cell": {
    "cell_type": "raw",
    "source": [],
    "metadata": {
     "collapsed": false
    }
   }
  }
 },
 "nbformat": 4,
 "nbformat_minor": 0
}