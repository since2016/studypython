{
 "cells": [
  {
   "cell_type": "code",
   "execution_count": 1,
   "metadata": {
    "collapsed": true,
    "pycharm": {
     "is_executing": false
    }
   },
   "outputs": [
    {
     "data": {
      "text/plain": "<matplotlib.figure.Figure at 0x1054c4f60>",
      "image/png": "[encoded data removed]"
     },
     "metadata": {},
     "output_type": "display_data"
    }
   ],
   "source": [
    "import matplotlib.pyplot as plt\n",
    "import numpy as np\n",
    "import operator\n",
    "\n",
    "# 已知分类的数据\n",
    "x1 = np.array([3,2,1])\n",
    "y1 = np.array([104,100,81])\n",
    "x2 = np.array([101,99,98])\n",
    "y2 = np.array([10,5,2])\n",
    "scatter1 = plt.scatter(x1, y1, c='r')\n",
    "scatter2 = plt.scatter(x2, y2, c='b')\n",
    "\n",
    "# 未知数据\n",
    "x = np.array([18])\n",
    "y = np.array([90])\n",
    "scatter3 = plt.scatter(x,y, c='k')\n",
    "\n",
    "plt.legend(handles=[scatter1, scatter2, scatter3], labels=['A','B', 'X'], loc='best')\n",
    "plt.show()\n"
   ]
  },
  {
   "cell_type": "code",
   "execution_count": 4,
   "outputs": [],
   "source": [
    "# 已知分类的数据\n",
    "x_data = np.array([[3, 104],\n",
    "                   [2, 100],\n",
    "                   [1, 81],\n",
    "                   [101, 10],\n",
    "                   [99, 5],\n",
    "                   [81, 2]])\n",
    "y_data = np.array(['A', 'A', 'A','B', 'B', 'B'])\n",
    "x_test = np.array([18, 90])\n",
    "\n"
   ],
   "metadata": {
    "collapsed": false,
    "pycharm": {
     "name": "#%%\n",
     "is_executing": false
    }
   }
  },
  {
   "cell_type": "code",
   "execution_count": 5,
   "outputs": [
    {
     "data": {
      "text/plain": "6"
     },
     "metadata": {},
     "output_type": "execute_result",
     "execution_count": 5
    }
   ],
   "source": [
    "x_data_size = x_data.shape[0]\n",
    "x_data_size\n",
    "\n"
   ],
   "metadata": {
    "collapsed": false,
    "pycharm": {
     "name": "#%%\n",
     "is_executing": false
    }
   }
  },
  {
   "cell_type": "code",
   "execution_count": 10,
   "outputs": [
    {
     "data": {
      "text/plain": "'A'"
     },
     "metadata": {},
     "output_type": "execute_result",
     "execution_count": 10
    }
   ],
   "source": [
    "# 差值， 平方，求和， 开方，排序\n",
    "diffMat = np.tile(x_test, (x_data_size, 1)) - x_data\n",
    "sqDiffMat = diffMat**2\n",
    "sqDistances = sqDiffMat.sum(axis=1)\n",
    "\n",
    "distance = sqDistances**0.5\n",
    "distance\n",
    "\n",
    "sortedDistances = distance.argsort()\n",
    "sortedDistances\n",
    "\n",
    "classCount = {}\n",
    "k = 5\n",
    "for i in range(k):\n",
    "    # 获取标签\n",
    "    votelabel = y_data[sortedDistances[i]]\n",
    "    classCount[votelabel] = classCount.get(votelabel, 0)+1\n",
    "    \n",
    "classCount\n",
    "\n",
    "# 根据operator.itemgetter(1) -- 对val 进行排序\n",
    "sortedClassCount = sorted(classCount.items(), key=operator.itemgetter(1), reverse=True)\n",
    "sortedClassCount\n",
    "\n",
    "knnlcass = sortedClassCount[0][0]\n",
    "knnlcass"
   ],
   "metadata": {
    "collapsed": false,
    "pycharm": {
     "name": "#%%\n",
     "is_executing": false
    }
   }
  }
 ],
 "metadata": {
  "language_info": {
   "codemirror_mode": {
    "name": "ipython",
    "version": 2
   },
   "file_extension": ".py",
   "mimetype": "text/x-python",
   "name": "python",
   "nbconvert_exporter": "python",
   "pygments_lexer": "ipython2",
   "version": "2.7.6"
  },
  "kernelspec": {
   "name": "python3",
   "language": "python",
   "display_name": "Python 3"
  },
  "pycharm": {
   "stem_cell": {
    "cell_type": "raw",
    "source": [],
    "metadata": {
     "collapsed": false
    }
   }
  }
 },
 "nbformat": 4,
 "nbformat_minor": 0
}