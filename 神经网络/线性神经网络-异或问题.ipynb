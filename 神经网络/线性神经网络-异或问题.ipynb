{
 "cells": [
  {
   "cell_type": "code",
   "execution_count": 8,
   "outputs": [
    {
     "name": "stdout",
     "text": [
      "[-0.89984495 -0.59806856 -0.53767445 -0.25501798  0.68347925  0.25184883]\n"
     ],
     "output_type": "stream"
    }
   ],
   "source": [
    "import numpy as np\n",
    "import matplotlib.pyplot as plt\n",
    "\n",
    "#输入数据\n",
    "X = np.array([[1,0,0,0,0,0],\n",
    "              [1,0,1,0,0,1],\n",
    "              [1,1,0,1,0,0],\n",
    "              [1,1,1,1,1,1]])\n",
    "\n",
    "# 标签\n",
    "# Y = np.array([[1],\n",
    "#               [1],\n",
    "#               [-1],\n",
    "#               [-1]])\n",
    "\n",
    "Y = np.array([-1,1,1,-1])\n",
    "\n",
    "# 权值初始化， 3行1列， 取值范围-1 - 1\n",
    "W = (np.random.random(6)-0.5)*2\n",
    "\n",
    "print(W)\n",
    "\n",
    "# 学习率设定\n",
    "lr = 0.11\n",
    "#神经网络输出\n",
    "O = 0\n",
    "\n",
    "def update():\n",
    "    global X,Y,W,lr\n",
    "    O = np.dot(X,W)     # purelin 激活函数\n",
    "    W_C = lr*(X.T.dot(Y-O)) / int(X.shape[0])\n",
    "    W = W + W_C\n",
    "    "
   ],
   "metadata": {
    "collapsed": false,
    "pycharm": {
     "name": "#%%\n",
     "is_executing": false
    }
   }
  },
  {
   "cell_type": "code",
   "execution_count": 9,
   "outputs": [
    {
     "data": {
      "text/plain": "<matplotlib.figure.Figure at 0x10adde0f0>",
      "image/png": "[encoded data removed]"
     },
     "metadata": {},
     "output_type": "display_data"
    }
   ],
   "source": [
    "\n",
    "for _ in range(1000):\n",
    "    update()\n",
    "    \n",
    "    \n",
    "# 正样本        \n",
    "x1 = [0,1]\n",
    "y1 = [1,0]\n",
    "# 负yangben\n",
    "x2 = [0,1]\n",
    "y2 = [0  ,1]\n",
    "\n",
    "def calculate(x,root):\n",
    "    a = W[5]\n",
    "    b = W[2]+x*W[4]\n",
    "    c = W[0] + x*W[1]+x*x*W[3]\n",
    "    \n",
    "    if root == 1:\n",
    "        return (-b+np.sqrt(b*b-4*a*c))/(2*a)\n",
    "    if root == 2:\n",
    "        return (-b-np.sqrt(b*b-4*a*c))/(2*a)\n",
    "\n",
    "xdata = np.linspace(-1,5)\n",
    "\n",
    "plt.figure()\n",
    "plt.plot(xdata, calculate(xdata, 1), 'r')\n",
    "plt.plot(xdata, calculate(xdata, 2), 'r')\n",
    "\n",
    "plt.plot(x1,y1, 'bo')\n",
    "plt.plot(x2,y2, 'yo')\n",
    "plt.show()\n",
    "        \n"
   ],
   "metadata": {
    "collapsed": false,
    "pycharm": {
     "name": "#%%\n",
     "is_executing": false
    }
   }
  }
 ],
 "metadata": {
  "language_info": {
   "codemirror_mode": {
    "name": "ipython",
    "version": 2
   },
   "file_extension": ".py",
   "mimetype": "text/x-python",
   "name": "python",
   "nbconvert_exporter": "python",
   "pygments_lexer": "ipython2",
   "version": "2.7.6"
  },
  "kernelspec": {
   "name": "python3",
   "language": "python",
   "display_name": "Python 3"
  },
  "pycharm": {
   "stem_cell": {
    "cell_type": "raw",
    "source": [],
    "metadata": {
     "collapsed": false
    }
   }
  }
 },
 "nbformat": 4,
 "nbformat_minor": 0
}