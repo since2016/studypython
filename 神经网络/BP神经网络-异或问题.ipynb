{
 "cells": [
  {
   "cell_type": "code",
   "execution_count": 1,
   "metadata": {
    "collapsed": true,
    "pycharm": {
     "is_executing": false
    }
   },
   "outputs": [
    {
     "name": "stdout",
     "text": [
      "[[ 0.398407   -0.39354398  0.96303652  0.98738656]\n [-0.91705192  0.11164073 -0.19437163  0.08421695]\n [-0.6828816   0.54006443 -0.12582656  0.20140819]]\n[[ 0.63804254]\n [ 0.89773456]\n [-0.82049772]\n [ 0.92379203]]\n"
     ],
     "output_type": "stream"
    }
   ],
   "source": [
    "import numpy as np\n",
    "\n",
    "#输入数据\n",
    "X = np.array([[1,0,0],\n",
    "              [1,0,1],\n",
    "              [1,1,0],\n",
    "              [1,1,1]])\n",
    "Y = np.array([[0,1,1,0]])\n",
    "\n",
    "# 权值初始化\n",
    "V = np.random.random((3,4))*2-1\n",
    "W = np.random.random((4,1))*2-1\n",
    "print(V)\n",
    "print(W)\n",
    "\n",
    "# 学习率\n",
    "lr = 0.11\n",
    "\n",
    "def sigmoid(x):\n",
    "    return 1.0/(1+np.exp(-x))\n",
    "\n",
    "def dsigmoid(x):\n",
    "    return x*(1-x)\n",
    "\n",
    "def update():\n",
    "    global X,Y,W,V,lr\n",
    "    \n",
    "    L1 = sigmoid(np.dot(X,V))\n",
    "    L2 = sigmoid(np.dot(L1,W))\n",
    "    \n",
    "    L2_delta = (Y.T - L2)*dsigmoid(L2)\n",
    "    L1_delta = L2_delta.dot(W.T)*dsigmoid(L1)\n",
    "    \n",
    "    W_C = lr * L1.T.dot(L2_delta)\n",
    "    V_C = lr * X.T.dot(L1_delta)\n",
    "    \n",
    "    W = W + W_C\n",
    "    V = V + V_C\n",
    "    \n",
    "    "
   ]
  },
  {
   "cell_type": "code",
   "execution_count": 2,
   "outputs": [
    {
     "name": "stdout",
     "text": [
      "error:  0.5010484989\nerror:  0.500088442715\nerror:  0.499446224766\nerror:  0.497735463454\nerror:  0.490885263955\nerror:  0.460783726406\nerror:  0.361676661424\nerror:  0.217866490313\nerror:  0.146217473751\nerror:  0.112235012182\nerror:  0.0928377854986\nerror:  0.0802368011117\nerror:  0.0713265178661\nerror:  0.0646475985832\nerror:  0.0594257250217\nerror:  0.0552114168301\nerror:  0.0517252896187\n",
      "error:  0.048784136454\nerror:  0.0462625481698\nerror:  0.0440716077809\nerror:  0.0421463981111\nerror:  0.0404383357936\nerror:  0.0389102825769\nerror:  0.0375333234933\nerror:  0.0362845822719\nerror:  0.035145702796\nerror:  0.0341017701839\nerror:  0.0331405291909\nerror:  0.0322518080914\nerror:  0.0314270873492\nerror:  0.0306591721104\nerror:  0.0299419403279\nerror:  0.0292701467808\n",
      "error:  0.0286392689492\nerror:  0.0280453846107\nerror:  0.027485073746\nerror:  0.026955339267\nerror:  0.0264535424557\nerror:  0.0259773500035\nerror:  0.0255246902735\n[[ 0.02007129]\n [ 0.97477554]\n [ 0.97405347]\n [ 0.02913596]]\n"
     ],
     "output_type": "stream"
    }
   ],
   "source": [
    "for i in range(20000):\n",
    "    update()\n",
    "    if i%500 == 0:\n",
    "        L1 = sigmoid(np.dot(X,V))\n",
    "        L2 = sigmoid(np.dot(L1,W))\n",
    "        \n",
    "        print('error: ', np.mean(np.abs(Y.T-L2)))\n",
    "\n",
    "\n",
    "L1 = sigmoid(np.dot(X,V))\n",
    "L2 = sigmoid(np.dot(L1,W))\n",
    "print(L2)"
   ],
   "metadata": {
    "collapsed": false,
    "pycharm": {
     "name": "#%%\n",
     "is_executing": false
    }
   }
  }
 ],
 "metadata": {
  "language_info": {
   "codemirror_mode": {
    "name": "ipython",
    "version": 2
   },
   "file_extension": ".py",
   "mimetype": "text/x-python",
   "name": "python",
   "nbconvert_exporter": "python",
   "pygments_lexer": "ipython2",
   "version": "2.7.6"
  },
  "kernelspec": {
   "name": "python3",
   "language": "python",
   "display_name": "Python 3"
  },
  "pycharm": {
   "stem_cell": {
    "cell_type": "raw",
    "source": [],
    "metadata": {
     "collapsed": false
    }
   }
  }
 },
 "nbformat": 4,
 "nbformat_minor": 0
}