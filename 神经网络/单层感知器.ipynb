{
 "cells": [
  {
   "cell_type": "code",
   "execution_count": 9,
   "metadata": {
    "collapsed": true,
    "pycharm": {
     "is_executing": false
    }
   },
   "outputs": [
    {
     "name": "stdout",
     "text": [
      "[[-0.79611194]\n [-0.12377044]\n [-0.24923401]]\n"
     ],
     "output_type": "stream"
    }
   ],
   "source": [
    "import numpy as np\n",
    "import matplotlib.pyplot as plt\n",
    "\n",
    "#输入数据\n",
    "X = np.array([[1,3,3],\n",
    "              [1,4,3],\n",
    "              [1,1,1],\n",
    "              [1,0,2]])\n",
    "\n",
    "# 标签\n",
    "Y = np.array([[1],\n",
    "              [1],\n",
    "              [-1],\n",
    "              [-1]])\n",
    "\n",
    "# 权值初始化， 3行1列， 取值范围-1 - 1\n",
    "W = (np.random.random([3,1])-0.5)*2\n",
    "\n",
    "print(W)\n",
    "\n",
    "# 学习率设定\n",
    "lr = 0.11\n",
    "#神经网络输出\n",
    "O = 0\n",
    "\n",
    "def update():\n",
    "    global X,Y,W,lr\n",
    "    O = np.sign(np.dot(X,W))\n",
    "    W_C = lr*(X.T.dot(Y-O)) / int(X.shape[0])\n",
    "    W = W + W_C\n",
    "    "
   ]
  },
  {
   "cell_type": "code",
   "execution_count": 10,
   "outputs": [
    {
     "name": "stdout",
     "text": [
      "[[-0.68611194]\n [ 0.26122956]\n [ 0.08076599]]\n0\nfinished\nepoch:  0\nk= [-3.23440061]\nb= [ 8.49506033]\n"
     ],
     "output_type": "stream"
    },
    {
     "data": {
      "text/plain": "<matplotlib.figure.Figure at 0x10f7569b0>",
      "image/png": "[encoded data removed]"
     },
     "metadata": {},
     "output_type": "display_data"
    }
   ],
   "source": [
    "\n",
    "for i in range(100):\n",
    "    update()\n",
    "    print(W)\n",
    "    print(i)\n",
    "    O = np.sign(np.dot(X,W))\n",
    "    if(O==Y).all(): # 如果是实际输出等于期望输出， 模型收敛，循环结束\n",
    "        print(\"finished\")\n",
    "        print(\"epoch: \" ,i)\n",
    "        break\n",
    "# 正样本        \n",
    "x1 = [3,4]\n",
    "y1 = [3,3]\n",
    "# 负yangben\n",
    "x2 = [1,0]\n",
    "y2 = [1,2]\n",
    "\n",
    "# 计算分界线的斜率和截距\n",
    "k = -W[1]/W[2]\n",
    "b = -W[0]/W[2]\n",
    "print(\"k=\",k)\n",
    "print('b=',b)\n",
    "\n",
    "xdata = (0,5)\n",
    "\n",
    "plt.figure()\n",
    "plt.plot(xdata, xdata*k+b, 'r')\n",
    "plt.scatter(x1, y1, c='b')\n",
    "plt.scatter(x2,y2,c='y')\n",
    "plt.show()\n",
    "        \n"
   ],
   "metadata": {
    "collapsed": false,
    "pycharm": {
     "name": "#%%\n",
     "is_executing": false
    }
   }
  }
 ],
 "metadata": {
  "language_info": {
   "codemirror_mode": {
    "name": "ipython",
    "version": 2
   },
   "file_extension": ".py",
   "mimetype": "text/x-python",
   "name": "python",
   "nbconvert_exporter": "python",
   "pygments_lexer": "ipython2",
   "version": "2.7.6"
  },
  "kernelspec": {
   "name": "python3",
   "language": "python",
   "display_name": "Python 3"
  },
  "pycharm": {
   "stem_cell": {
    "cell_type": "raw",
    "source": [],
    "metadata": {
     "collapsed": false
    }
   }
  }
 },
 "nbformat": 4,
 "nbformat_minor": 0
}